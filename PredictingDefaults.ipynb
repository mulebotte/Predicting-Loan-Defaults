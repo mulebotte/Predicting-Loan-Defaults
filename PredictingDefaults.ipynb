{
 "cells": [
  {
   "cell_type": "code",
   "execution_count": 1,
   "id": "revolutionary-conviction",
   "metadata": {},
   "outputs": [],
   "source": [
    "import numpy as np\n",
    "import pandas as pd\n",
    "import os\n",
    "from sklearn.model_selection import train_test_split\n",
    "from sklearn.linear_model import LogisticRegression\n",
    "from sklearn.metrics import classification_report, confusion_matrix\n",
    "from sklearn.tree import DecisionTreeClassifier\n",
    "from sklearn.ensemble import RandomForestClassifier\n",
    "import statsmodels.api as sm \n",
    "from sklearn.compose import ColumnTransformer\n",
    "from sklearn.preprocessing import PolynomialFeatures\n",
    "from sklearn.linear_model  import LogisticRegression\n",
    "from sklearn.preprocessing import StandardScaler, OneHotEncoder\n",
    "from imblearn.over_sampling import SMOTE\n",
    "from imblearn.pipeline import Pipeline\n",
    "from sklearn.model_selection import train_test_split\n",
    "from sklearn.metrics import confusion_matrix\n",
    "from sklearn.metrics import accuracy_score, precision_score, recall_score, f1_score\n",
    "from sklearn.metrics import classification_report\n",
    "import sklearn.metrics as metrics\n",
    "import matplotlib.pyplot as plt\n",
    "from sklearn.metrics import roc_curve\n",
    "from sklearn.metrics import roc_auc_score"
   ]
  },
  {
   "cell_type": "markdown",
   "id": "intelligent-chicken",
   "metadata": {},
   "source": [
    "# Dataset"
   ]
  },
  {
   "cell_type": "markdown",
   "id": "finite-killing",
   "metadata": {},
   "source": [
    "The dataset contains information on loans from 2016. \n",
    "\n",
    "The data is available from LendingClub. 2007-2010 data has been cleared of all NA values.\n",
    "Source: https://www.kaggle.com/sarahvch/predicting-who-pays-back-loans#loan_data.csv\n"
   ]
  },
  {
   "cell_type": "markdown",
   "id": "blond-electronics",
   "metadata": {},
   "source": [
    "# Goal:"
   ]
  },
  {
   "cell_type": "markdown",
   "id": "advisory-expense",
   "metadata": {},
   "source": [
    "The goal will be to predict when a loan will be defaulted on, signified by a '1' in the 'not.fully.paid' column.\n",
    "\n",
    "To achieve this, we will be using logistic regressions, decision trees, and random forests from SKlearn. "
   ]
  },
  {
   "cell_type": "code",
   "execution_count": 2,
   "id": "marked-causing",
   "metadata": {},
   "outputs": [],
   "source": [
    "df = pd.read_csv('loan_data.csv')"
   ]
  },
  {
   "cell_type": "code",
   "execution_count": 3,
   "id": "durable-jamaica",
   "metadata": {},
   "outputs": [
    {
     "data": {
      "text/html": [
       "<div>\n",
       "<style scoped>\n",
       "    .dataframe tbody tr th:only-of-type {\n",
       "        vertical-align: middle;\n",
       "    }\n",
       "\n",
       "    .dataframe tbody tr th {\n",
       "        vertical-align: top;\n",
       "    }\n",
       "\n",
       "    .dataframe thead th {\n",
       "        text-align: right;\n",
       "    }\n",
       "</style>\n",
       "<table border=\"1\" class=\"dataframe\">\n",
       "  <thead>\n",
       "    <tr style=\"text-align: right;\">\n",
       "      <th></th>\n",
       "      <th>credit.policy</th>\n",
       "      <th>purpose</th>\n",
       "      <th>int.rate</th>\n",
       "      <th>installment</th>\n",
       "      <th>log.annual.inc</th>\n",
       "      <th>dti</th>\n",
       "      <th>fico</th>\n",
       "      <th>days.with.cr.line</th>\n",
       "      <th>revol.bal</th>\n",
       "      <th>revol.util</th>\n",
       "      <th>inq.last.6mths</th>\n",
       "      <th>delinq.2yrs</th>\n",
       "      <th>pub.rec</th>\n",
       "      <th>not.fully.paid</th>\n",
       "    </tr>\n",
       "  </thead>\n",
       "  <tbody>\n",
       "    <tr>\n",
       "      <th>0</th>\n",
       "      <td>1</td>\n",
       "      <td>debt_consolidation</td>\n",
       "      <td>0.1189</td>\n",
       "      <td>829.10</td>\n",
       "      <td>11.350407</td>\n",
       "      <td>19.48</td>\n",
       "      <td>737</td>\n",
       "      <td>5639.958333</td>\n",
       "      <td>28854</td>\n",
       "      <td>52.1</td>\n",
       "      <td>0</td>\n",
       "      <td>0</td>\n",
       "      <td>0</td>\n",
       "      <td>0</td>\n",
       "    </tr>\n",
       "    <tr>\n",
       "      <th>1</th>\n",
       "      <td>1</td>\n",
       "      <td>credit_card</td>\n",
       "      <td>0.1071</td>\n",
       "      <td>228.22</td>\n",
       "      <td>11.082143</td>\n",
       "      <td>14.29</td>\n",
       "      <td>707</td>\n",
       "      <td>2760.000000</td>\n",
       "      <td>33623</td>\n",
       "      <td>76.7</td>\n",
       "      <td>0</td>\n",
       "      <td>0</td>\n",
       "      <td>0</td>\n",
       "      <td>0</td>\n",
       "    </tr>\n",
       "    <tr>\n",
       "      <th>2</th>\n",
       "      <td>1</td>\n",
       "      <td>debt_consolidation</td>\n",
       "      <td>0.1357</td>\n",
       "      <td>366.86</td>\n",
       "      <td>10.373491</td>\n",
       "      <td>11.63</td>\n",
       "      <td>682</td>\n",
       "      <td>4710.000000</td>\n",
       "      <td>3511</td>\n",
       "      <td>25.6</td>\n",
       "      <td>1</td>\n",
       "      <td>0</td>\n",
       "      <td>0</td>\n",
       "      <td>0</td>\n",
       "    </tr>\n",
       "    <tr>\n",
       "      <th>3</th>\n",
       "      <td>1</td>\n",
       "      <td>debt_consolidation</td>\n",
       "      <td>0.1008</td>\n",
       "      <td>162.34</td>\n",
       "      <td>11.350407</td>\n",
       "      <td>8.10</td>\n",
       "      <td>712</td>\n",
       "      <td>2699.958333</td>\n",
       "      <td>33667</td>\n",
       "      <td>73.2</td>\n",
       "      <td>1</td>\n",
       "      <td>0</td>\n",
       "      <td>0</td>\n",
       "      <td>0</td>\n",
       "    </tr>\n",
       "    <tr>\n",
       "      <th>4</th>\n",
       "      <td>1</td>\n",
       "      <td>credit_card</td>\n",
       "      <td>0.1426</td>\n",
       "      <td>102.92</td>\n",
       "      <td>11.299732</td>\n",
       "      <td>14.97</td>\n",
       "      <td>667</td>\n",
       "      <td>4066.000000</td>\n",
       "      <td>4740</td>\n",
       "      <td>39.5</td>\n",
       "      <td>0</td>\n",
       "      <td>1</td>\n",
       "      <td>0</td>\n",
       "      <td>0</td>\n",
       "    </tr>\n",
       "  </tbody>\n",
       "</table>\n",
       "</div>"
      ],
      "text/plain": [
       "   credit.policy             purpose  int.rate  installment  log.annual.inc  \\\n",
       "0              1  debt_consolidation    0.1189       829.10       11.350407   \n",
       "1              1         credit_card    0.1071       228.22       11.082143   \n",
       "2              1  debt_consolidation    0.1357       366.86       10.373491   \n",
       "3              1  debt_consolidation    0.1008       162.34       11.350407   \n",
       "4              1         credit_card    0.1426       102.92       11.299732   \n",
       "\n",
       "     dti  fico  days.with.cr.line  revol.bal  revol.util  inq.last.6mths  \\\n",
       "0  19.48   737        5639.958333      28854        52.1               0   \n",
       "1  14.29   707        2760.000000      33623        76.7               0   \n",
       "2  11.63   682        4710.000000       3511        25.6               1   \n",
       "3   8.10   712        2699.958333      33667        73.2               1   \n",
       "4  14.97   667        4066.000000       4740        39.5               0   \n",
       "\n",
       "   delinq.2yrs  pub.rec  not.fully.paid  \n",
       "0            0        0               0  \n",
       "1            0        0               0  \n",
       "2            0        0               0  \n",
       "3            0        0               0  \n",
       "4            1        0               0  "
      ]
     },
     "execution_count": 3,
     "metadata": {},
     "output_type": "execute_result"
    }
   ],
   "source": [
    "df.head()"
   ]
  },
  {
   "cell_type": "code",
   "execution_count": 4,
   "id": "turned-might",
   "metadata": {},
   "outputs": [
    {
     "data": {
      "text/html": [
       "<div>\n",
       "<style scoped>\n",
       "    .dataframe tbody tr th:only-of-type {\n",
       "        vertical-align: middle;\n",
       "    }\n",
       "\n",
       "    .dataframe tbody tr th {\n",
       "        vertical-align: top;\n",
       "    }\n",
       "\n",
       "    .dataframe thead th {\n",
       "        text-align: right;\n",
       "    }\n",
       "</style>\n",
       "<table border=\"1\" class=\"dataframe\">\n",
       "  <thead>\n",
       "    <tr style=\"text-align: right;\">\n",
       "      <th></th>\n",
       "      <th>credit.policy</th>\n",
       "      <th>int.rate</th>\n",
       "      <th>installment</th>\n",
       "      <th>log.annual.inc</th>\n",
       "      <th>dti</th>\n",
       "      <th>fico</th>\n",
       "      <th>days.with.cr.line</th>\n",
       "      <th>revol.bal</th>\n",
       "      <th>revol.util</th>\n",
       "      <th>inq.last.6mths</th>\n",
       "      <th>...</th>\n",
       "      <th>debt_consolidation</th>\n",
       "      <th>educational</th>\n",
       "      <th>home_improvement</th>\n",
       "      <th>major_purchase</th>\n",
       "      <th>small_business</th>\n",
       "      <th>1</th>\n",
       "      <th>2</th>\n",
       "      <th>3</th>\n",
       "      <th>4</th>\n",
       "      <th>5</th>\n",
       "    </tr>\n",
       "  </thead>\n",
       "  <tbody>\n",
       "    <tr>\n",
       "      <th>0</th>\n",
       "      <td>1</td>\n",
       "      <td>0.1189</td>\n",
       "      <td>829.10</td>\n",
       "      <td>11.350407</td>\n",
       "      <td>19.48</td>\n",
       "      <td>737</td>\n",
       "      <td>5639.958333</td>\n",
       "      <td>28854</td>\n",
       "      <td>52.1</td>\n",
       "      <td>0</td>\n",
       "      <td>...</td>\n",
       "      <td>1</td>\n",
       "      <td>0</td>\n",
       "      <td>0</td>\n",
       "      <td>0</td>\n",
       "      <td>0</td>\n",
       "      <td>0</td>\n",
       "      <td>0</td>\n",
       "      <td>0</td>\n",
       "      <td>0</td>\n",
       "      <td>0</td>\n",
       "    </tr>\n",
       "    <tr>\n",
       "      <th>1</th>\n",
       "      <td>1</td>\n",
       "      <td>0.1071</td>\n",
       "      <td>228.22</td>\n",
       "      <td>11.082143</td>\n",
       "      <td>14.29</td>\n",
       "      <td>707</td>\n",
       "      <td>2760.000000</td>\n",
       "      <td>33623</td>\n",
       "      <td>76.7</td>\n",
       "      <td>0</td>\n",
       "      <td>...</td>\n",
       "      <td>0</td>\n",
       "      <td>0</td>\n",
       "      <td>0</td>\n",
       "      <td>0</td>\n",
       "      <td>0</td>\n",
       "      <td>0</td>\n",
       "      <td>0</td>\n",
       "      <td>0</td>\n",
       "      <td>0</td>\n",
       "      <td>0</td>\n",
       "    </tr>\n",
       "    <tr>\n",
       "      <th>2</th>\n",
       "      <td>1</td>\n",
       "      <td>0.1357</td>\n",
       "      <td>366.86</td>\n",
       "      <td>10.373491</td>\n",
       "      <td>11.63</td>\n",
       "      <td>682</td>\n",
       "      <td>4710.000000</td>\n",
       "      <td>3511</td>\n",
       "      <td>25.6</td>\n",
       "      <td>1</td>\n",
       "      <td>...</td>\n",
       "      <td>1</td>\n",
       "      <td>0</td>\n",
       "      <td>0</td>\n",
       "      <td>0</td>\n",
       "      <td>0</td>\n",
       "      <td>0</td>\n",
       "      <td>0</td>\n",
       "      <td>0</td>\n",
       "      <td>0</td>\n",
       "      <td>0</td>\n",
       "    </tr>\n",
       "    <tr>\n",
       "      <th>3</th>\n",
       "      <td>1</td>\n",
       "      <td>0.1008</td>\n",
       "      <td>162.34</td>\n",
       "      <td>11.350407</td>\n",
       "      <td>8.10</td>\n",
       "      <td>712</td>\n",
       "      <td>2699.958333</td>\n",
       "      <td>33667</td>\n",
       "      <td>73.2</td>\n",
       "      <td>1</td>\n",
       "      <td>...</td>\n",
       "      <td>1</td>\n",
       "      <td>0</td>\n",
       "      <td>0</td>\n",
       "      <td>0</td>\n",
       "      <td>0</td>\n",
       "      <td>0</td>\n",
       "      <td>0</td>\n",
       "      <td>0</td>\n",
       "      <td>0</td>\n",
       "      <td>0</td>\n",
       "    </tr>\n",
       "    <tr>\n",
       "      <th>4</th>\n",
       "      <td>1</td>\n",
       "      <td>0.1426</td>\n",
       "      <td>102.92</td>\n",
       "      <td>11.299732</td>\n",
       "      <td>14.97</td>\n",
       "      <td>667</td>\n",
       "      <td>4066.000000</td>\n",
       "      <td>4740</td>\n",
       "      <td>39.5</td>\n",
       "      <td>0</td>\n",
       "      <td>...</td>\n",
       "      <td>0</td>\n",
       "      <td>0</td>\n",
       "      <td>0</td>\n",
       "      <td>0</td>\n",
       "      <td>0</td>\n",
       "      <td>0</td>\n",
       "      <td>0</td>\n",
       "      <td>0</td>\n",
       "      <td>0</td>\n",
       "      <td>0</td>\n",
       "    </tr>\n",
       "  </tbody>\n",
       "</table>\n",
       "<p>5 rows × 23 columns</p>\n",
       "</div>"
      ],
      "text/plain": [
       "   credit.policy  int.rate  installment  log.annual.inc    dti  fico  \\\n",
       "0              1    0.1189       829.10       11.350407  19.48   737   \n",
       "1              1    0.1071       228.22       11.082143  14.29   707   \n",
       "2              1    0.1357       366.86       10.373491  11.63   682   \n",
       "3              1    0.1008       162.34       11.350407   8.10   712   \n",
       "4              1    0.1426       102.92       11.299732  14.97   667   \n",
       "\n",
       "   days.with.cr.line  revol.bal  revol.util  inq.last.6mths  ...  \\\n",
       "0        5639.958333      28854        52.1               0  ...   \n",
       "1        2760.000000      33623        76.7               0  ...   \n",
       "2        4710.000000       3511        25.6               1  ...   \n",
       "3        2699.958333      33667        73.2               1  ...   \n",
       "4        4066.000000       4740        39.5               0  ...   \n",
       "\n",
       "   debt_consolidation  educational  home_improvement  major_purchase  \\\n",
       "0                   1            0                 0               0   \n",
       "1                   0            0                 0               0   \n",
       "2                   1            0                 0               0   \n",
       "3                   1            0                 0               0   \n",
       "4                   0            0                 0               0   \n",
       "\n",
       "   small_business  1  2  3  4  5  \n",
       "0               0  0  0  0  0  0  \n",
       "1               0  0  0  0  0  0  \n",
       "2               0  0  0  0  0  0  \n",
       "3               0  0  0  0  0  0  \n",
       "4               0  0  0  0  0  0  \n",
       "\n",
       "[5 rows x 23 columns]"
      ]
     },
     "execution_count": 4,
     "metadata": {},
     "output_type": "execute_result"
    }
   ],
   "source": [
    "#The 'purpose' and 'pub.rec' columns are qualitative. Therefore, we must separate the categories into separate\n",
    "#columns, each with its own dummy variable.\n",
    "purpose_ = pd.get_dummies(df['purpose'],drop_first=True)\n",
    "public_record  = pd.get_dummies(df['pub.rec'],drop_first=True)\n",
    "\n",
    "#Then, we drop the old columns and concatenate the new dataframs\n",
    "df.drop(['purpose','pub.rec'],axis=1,inplace=True)\n",
    "df = pd.concat([df,purpose_,public_record],axis=1)\n",
    "df.head()"
   ]
  },
  {
   "cell_type": "code",
   "execution_count": 5,
   "id": "crucial-sitting",
   "metadata": {},
   "outputs": [],
   "source": [
    "#The same train and test data will be used for all three strategies\n",
    "X_train, X_test, y_train, y_test = train_test_split(df.drop('not.fully.paid',axis=1), \n",
    "                                                    df['not.fully.paid'], test_size=0.20)"
   ]
  },
  {
   "cell_type": "markdown",
   "id": "jewish-short",
   "metadata": {},
   "source": [
    "# Logistic Regression"
   ]
  },
  {
   "cell_type": "code",
   "execution_count": 6,
   "id": "fantastic-cartridge",
   "metadata": {},
   "outputs": [
    {
     "name": "stderr",
     "output_type": "stream",
     "text": [
      "/Users/sambaker/opt/anaconda3/lib/python3.8/site-packages/sklearn/linear_model/_logistic.py:762: ConvergenceWarning: lbfgs failed to converge (status=1):\n",
      "STOP: TOTAL NO. of ITERATIONS REACHED LIMIT.\n",
      "\n",
      "Increase the number of iterations (max_iter) or scale the data as shown in:\n",
      "    https://scikit-learn.org/stable/modules/preprocessing.html\n",
      "Please also refer to the documentation for alternative solver options:\n",
      "    https://scikit-learn.org/stable/modules/linear_model.html#logistic-regression\n",
      "  n_iter_i = _check_optimize_result(\n"
     ]
    }
   ],
   "source": [
    "#Train and predict\n",
    "logmodel = LogisticRegression()\n",
    "logmodel.fit(X_train,y_train)\n",
    "predictions = logmodel.predict(X_test)\n",
    "\n",
    "#Results\n",
    "logistic_confusion_matrix = confusion_matrix(y_test,predictions)\n",
    "logistic_classification_report = classification_report(y_test,predictions)\n",
    "\n",
    "#ROC Curve set-up\n",
    "lr_probs = logmodel.predict_proba(X_test)\n",
    "ns_probs = [0 for _ in range(len(y_test))]\n",
    "lr_probs = lr_probs[:, 1]\n",
    "ns_auc = roc_auc_score(y_test, ns_probs)\n",
    "lr_auc = roc_auc_score(y_test, lr_probs)\n",
    "ns_fpr, ns_tpr, _ = roc_curve(y_test, ns_probs)\n",
    "lr_fpr, lr_tpr, _ = roc_curve(y_test, lr_probs)"
   ]
  },
  {
   "cell_type": "markdown",
   "id": "cardiac-petroleum",
   "metadata": {},
   "source": [
    "# Decision Tree"
   ]
  },
  {
   "cell_type": "code",
   "execution_count": 7,
   "id": "treated-cache",
   "metadata": {},
   "outputs": [],
   "source": [
    "#Train and predict\n",
    "dtree = DecisionTreeClassifier()\n",
    "dtree.fit(X_train,y_train)\n",
    "predictions = dtree.predict(X_test)\n",
    "\n",
    "#Results\n",
    "decision_tree_confusion_matrix = confusion_matrix(y_test,predictions)\n",
    "decision_tree_classification_report = (classification_report(y_test,predictions))\n",
    "\n",
    "#ROC Curve set-up\n",
    "dt_probs = dtree.predict_proba(X_test)\n",
    "ns_probs = [0 for _ in range(len(y_test))]\n",
    "dt_probs = dt_probs[:, 1]\n",
    "ns_auc = roc_auc_score(y_test, ns_probs)\n",
    "dt_auc = roc_auc_score(y_test, dt_probs)\n",
    "ns_fpr, ns_tpr, _ = roc_curve(y_test, ns_probs)\n",
    "dt_fpr, dt_tpr, _ = roc_curve(y_test, dt_probs)"
   ]
  },
  {
   "cell_type": "markdown",
   "id": "becoming-lighting",
   "metadata": {},
   "source": [
    "# Random Forest"
   ]
  },
  {
   "cell_type": "code",
   "execution_count": 8,
   "id": "understanding-necklace",
   "metadata": {},
   "outputs": [],
   "source": [
    "#Train and predict\n",
    "rfc = RandomForestClassifier(n_estimators=3000)\n",
    "rfc.fit(X_train,y_train)\n",
    "predictions = rfc.predict(X_test)\n",
    "\n",
    "#Results\n",
    "random_forests_confusion_matrix = confusion_matrix(y_test,predictions)\n",
    "random_forests_classification_report = classification_report(y_test,predictions)\n",
    "\n",
    "#ROC Curve set-up\n",
    "rf_probs = rfc.predict_proba(X_test)\n",
    "ns_probs = [0 for _ in range(len(y_test))]\n",
    "rf_probs = rf_probs[:, 1]\n",
    "ns_auc = roc_auc_score(y_test, ns_probs)\n",
    "rf_auc = roc_auc_score(y_test, rf_probs)\n",
    "ns_fpr, ns_tpr, _ = roc_curve(y_test, ns_probs)\n",
    "rf_fpr, rf_tpr, _ = roc_curve(y_test, rf_probs)"
   ]
  },
  {
   "cell_type": "markdown",
   "id": "outside-mattress",
   "metadata": {},
   "source": [
    "# Results"
   ]
  },
  {
   "cell_type": "markdown",
   "id": "honest-brook",
   "metadata": {},
   "source": [
    "The precision is the ratio tp / (tp + fp) where tp is the number of true positives and fp the number of false positives. The precision is intuitively the ability of the classifier not to label as positive a sample that is negative.\n",
    "\n",
    "The recall is the ratio tp / (tp + fn) where tp is the number of true positives and fn the number of false negatives. The recall is intuitively the ability of the classifier to find all the positive samples.\n",
    "\n",
    "The F-beta score can be interpreted as a weighted harmonic mean of the precision and recall, where an F-beta score reaches its best value at 1 and worst score at 0.\n",
    "\n",
    "The F-beta score weights recall more than precision by a factor of beta. beta == 1.0 means recall and precision are equally important.\n",
    "\n",
    "The support is the number of occurrences of each class in y_test."
   ]
  },
  {
   "cell_type": "code",
   "execution_count": 9,
   "id": "sunset-dallas",
   "metadata": {},
   "outputs": [
    {
     "name": "stdout",
     "output_type": "stream",
     "text": [
      "Logistic Regression:\n",
      "[[1638    1]\n",
      " [ 272    5]]\n",
      "              precision    recall  f1-score   support\n",
      "\n",
      "           0       0.86      1.00      0.92      1639\n",
      "           1       0.83      0.02      0.04       277\n",
      "\n",
      "    accuracy                           0.86      1916\n",
      "   macro avg       0.85      0.51      0.48      1916\n",
      "weighted avg       0.85      0.86      0.79      1916\n",
      "\n",
      "Decision Tree:\n",
      "[[1369  270]\n",
      " [ 207   70]]\n",
      "              precision    recall  f1-score   support\n",
      "\n",
      "           0       0.87      0.84      0.85      1639\n",
      "           1       0.21      0.25      0.23       277\n",
      "\n",
      "    accuracy                           0.75      1916\n",
      "   macro avg       0.54      0.54      0.54      1916\n",
      "weighted avg       0.77      0.75      0.76      1916\n",
      "\n",
      "Random Forest:\n",
      "[[1633    6]\n",
      " [ 271    6]]\n",
      "              precision    recall  f1-score   support\n",
      "\n",
      "           0       0.86      1.00      0.92      1639\n",
      "           1       0.50      0.02      0.04       277\n",
      "\n",
      "    accuracy                           0.86      1916\n",
      "   macro avg       0.68      0.51      0.48      1916\n",
      "weighted avg       0.81      0.86      0.79      1916\n",
      "\n"
     ]
    }
   ],
   "source": [
    "print('Logistic Regression:')\n",
    "print(logistic_confusion_matrix) \n",
    "print(logistic_classification_report)\n",
    "\n",
    "\n",
    "print('Decision Tree:')\n",
    "print(decision_tree_confusion_matrix) \n",
    "print(decision_tree_classification_report)\n",
    "\n",
    "\n",
    "print('Random Forest:')\n",
    "print(random_forests_confusion_matrix) \n",
    "print(random_forests_classification_report)"
   ]
  },
  {
   "cell_type": "markdown",
   "id": "honest-entrance",
   "metadata": {},
   "source": [
    "Interpretation: out of the three strategies, the random forest and logit performed the best. However, based on the confusion matrices, it is clear that both strategies probably predicted all outcomes to be fully paid back. In other words, these strategies were ineffective at predicting defaults"
   ]
  },
  {
   "cell_type": "code",
   "execution_count": 10,
   "id": "automated-invasion",
   "metadata": {},
   "outputs": [
    {
     "data": {
      "text/plain": [
       "Text(0.5, 1.0, 'Random Forest - ROC AUC=0.660')"
      ]
     },
     "execution_count": 10,
     "metadata": {},
     "output_type": "execute_result"
    },
    {
     "data": {
      "image/png": "[encoded data removed]",
      "text/plain": [
       "<Figure size 360x1080 with 3 Axes>"
      ]
     },
     "metadata": {
      "needs_background": "light"
     },
     "output_type": "display_data"
    }
   ],
   "source": [
    "fig, axs = plt.subplots(3,figsize=(5,15))\n",
    "\n",
    "axs[0].plot(ns_fpr, ns_tpr, linestyle='--', label='No Skill')\n",
    "axs[1].plot(ns_fpr, ns_tpr, linestyle='--', label='No Skill')\n",
    "axs[2].plot(ns_fpr, ns_tpr, linestyle='--', label='No Skill')\n",
    "\n",
    "axs[0].plot(lr_fpr, lr_tpr, marker='.', label='SKLearn Logit')\n",
    "axs[1].plot(dt_fpr, dt_tpr, marker='.', label='Decision Tree')\n",
    "axs[2].plot(rf_fpr, rf_tpr, marker='.', label='Random Forest')\n",
    "\n",
    "for ax in axs.flat:\n",
    "    ax.set(xlabel='False Positive Rate', ylabel='True Positive Rate')\n",
    "\n",
    "axs[0].set_title('SKLearn Logit - ROC AUC=%.3f' % (lr_auc))\n",
    "axs[1].set_title('Decision Tree - ROC AUC=%.3f' % (dt_auc))\n",
    "axs[2].set_title('Random Forest - ROC AUC=%.3f' % (rf_auc))"
   ]
  },
  {
   "cell_type": "markdown",
   "id": "average-serbia",
   "metadata": {},
   "source": [
    "# A Balanced Approach"
   ]
  },
  {
   "cell_type": "code",
   "execution_count": 11,
   "id": "scientific-theology",
   "metadata": {},
   "outputs": [
    {
     "data": {
      "text/plain": [
       "0    8045\n",
       "1    1533\n",
       "Name: not.fully.paid, dtype: int64"
      ]
     },
     "execution_count": 11,
     "metadata": {},
     "output_type": "execute_result"
    }
   ],
   "source": [
    "df['not.fully.paid'].value_counts()"
   ]
  },
  {
   "cell_type": "markdown",
   "id": "lonely-dining",
   "metadata": {},
   "source": [
    "As seen above, only 1/6 loans were defaults. This imbalance in our dependent variable creates ineffective predictions. We will now attempt to 'balance' the data by resampling the default instances."
   ]
  },
  {
   "cell_type": "code",
   "execution_count": 12,
   "id": "impressed-nickel",
   "metadata": {},
   "outputs": [],
   "source": [
    "from sklearn.utils import resample"
   ]
  },
  {
   "cell_type": "code",
   "execution_count": 13,
   "id": "second-crest",
   "metadata": {},
   "outputs": [
    {
     "data": {
      "text/plain": [
       "0    8045\n",
       "1    8045\n",
       "Name: not.fully.paid, dtype: int64"
      ]
     },
     "execution_count": 13,
     "metadata": {},
     "output_type": "execute_result"
    }
   ],
   "source": [
    "df_majority = df[df['not.fully.paid']==0]\n",
    "df_minority = df[df['not.fully.paid']==1]\n",
    "\n",
    "df_minority_upsampled = resample(df_minority, \n",
    "                                 replace=True,     # sample with replacement\n",
    "                                 n_samples=8045,    # to match majority class\n",
    "                                 random_state=123) # reproducible results\n",
    "\n",
    "df_upsampled = pd.concat([df_majority, df_minority_upsampled])\n",
    "df_upsampled['not.fully.paid'].value_counts()"
   ]
  },
  {
   "cell_type": "code",
   "execution_count": 14,
   "id": "naked-january",
   "metadata": {},
   "outputs": [],
   "source": [
    "X_train, X_test, y_train, y_test = train_test_split(df_upsampled.drop('not.fully.paid',axis=1), \n",
    "                                                    df_upsampled['not.fully.paid'], test_size=0.20)"
   ]
  },
  {
   "cell_type": "markdown",
   "id": "facial-universal",
   "metadata": {},
   "source": [
    "Now having balanced data, we will re-run the three strategies."
   ]
  },
  {
   "cell_type": "markdown",
   "id": "innocent-cheat",
   "metadata": {},
   "source": [
    "# Logistic Regression"
   ]
  },
  {
   "cell_type": "code",
   "execution_count": 15,
   "id": "scientific-borough",
   "metadata": {},
   "outputs": [],
   "source": [
    "#Train and predict\n",
    "logmodel = LogisticRegression()\n",
    "logmodel.fit(X_train,y_train)\n",
    "predictions = logmodel.predict(X_test)\n",
    "\n",
    "#Results\n",
    "logistic_confusion_matrix = confusion_matrix(y_test,predictions)\n",
    "logistic_classification_report = classification_report(y_test,predictions)\n",
    "\n",
    "#ROC Curve set-up\n",
    "lr_probs = logmodel.predict_proba(X_test)\n",
    "ns_probs = [0 for _ in range(len(y_test))]\n",
    "lr_probs = lr_probs[:, 1]\n",
    "ns_auc = roc_auc_score(y_test, ns_probs)\n",
    "lr_auc = roc_auc_score(y_test, lr_probs)\n",
    "ns_fpr, ns_tpr, _ = roc_curve(y_test, ns_probs)\n",
    "lr_fpr, lr_tpr, _ = roc_curve(y_test, lr_probs)"
   ]
  },
  {
   "cell_type": "markdown",
   "id": "secure-minute",
   "metadata": {},
   "source": [
    "# Decision Tree"
   ]
  },
  {
   "cell_type": "code",
   "execution_count": 16,
   "id": "afraid-vault",
   "metadata": {},
   "outputs": [],
   "source": [
    "#Train and predict\n",
    "dtree = DecisionTreeClassifier()\n",
    "dtree.fit(X_train,y_train)\n",
    "predictions = dtree.predict(X_test)\n",
    "\n",
    "#Results\n",
    "decision_tree_confusion_matrix = confusion_matrix(y_test,predictions)\n",
    "decision_tree_classification_report = (classification_report(y_test,predictions))\n",
    "\n",
    "#ROC Curve set-up\n",
    "dt_probs = dtree.predict_proba(X_test)\n",
    "ns_probs = [0 for _ in range(len(y_test))]\n",
    "dt_probs = dt_probs[:, 1]\n",
    "ns_auc = roc_auc_score(y_test, ns_probs)\n",
    "dt_auc = roc_auc_score(y_test, dt_probs)\n",
    "ns_fpr, ns_tpr, _ = roc_curve(y_test, ns_probs)\n",
    "dt_fpr, dt_tpr, _ = roc_curve(y_test, dt_probs)"
   ]
  },
  {
   "cell_type": "markdown",
   "id": "sapphire-dancing",
   "metadata": {},
   "source": [
    "# Random Forest"
   ]
  },
  {
   "cell_type": "code",
   "execution_count": 17,
   "id": "renewable-structure",
   "metadata": {},
   "outputs": [],
   "source": [
    "#Train and predict\n",
    "rfc = RandomForestClassifier(n_estimators=600)\n",
    "rfc.fit(X_train,y_train)\n",
    "predictions = rfc.predict(X_test)\n",
    "\n",
    "#Results\n",
    "random_forests_confusion_matrix = confusion_matrix(y_test,predictions)\n",
    "random_forests_classification_report = classification_report(y_test,predictions)\n",
    "\n",
    "#ROC Curve set-up\n",
    "rf_probs = rfc.predict_proba(X_test)\n",
    "ns_probs = [0 for _ in range(len(y_test))]\n",
    "rf_probs = rf_probs[:, 1]\n",
    "ns_auc = roc_auc_score(y_test, ns_probs)\n",
    "rf_auc = roc_auc_score(y_test, rf_probs)\n",
    "ns_fpr, ns_tpr, _ = roc_curve(y_test, ns_probs)\n",
    "rf_fpr, rf_tpr, _ = roc_curve(y_test, rf_probs)"
   ]
  },
  {
   "cell_type": "markdown",
   "id": "legitimate-brazilian",
   "metadata": {},
   "source": [
    "# Results"
   ]
  },
  {
   "cell_type": "code",
   "execution_count": 18,
   "id": "solid-quality",
   "metadata": {},
   "outputs": [
    {
     "name": "stdout",
     "output_type": "stream",
     "text": [
      "Logistic Regression:\n",
      "[[928 666]\n",
      " [758 866]]\n",
      "              precision    recall  f1-score   support\n",
      "\n",
      "           0       0.55      0.58      0.57      1594\n",
      "           1       0.57      0.53      0.55      1624\n",
      "\n",
      "    accuracy                           0.56      3218\n",
      "   macro avg       0.56      0.56      0.56      3218\n",
      "weighted avg       0.56      0.56      0.56      3218\n",
      "\n",
      "Decision Tree:\n",
      "[[1283  311]\n",
      " [  20 1604]]\n",
      "              precision    recall  f1-score   support\n",
      "\n",
      "           0       0.98      0.80      0.89      1594\n",
      "           1       0.84      0.99      0.91      1624\n",
      "\n",
      "    accuracy                           0.90      3218\n",
      "   macro avg       0.91      0.90      0.90      3218\n",
      "weighted avg       0.91      0.90      0.90      3218\n",
      "\n",
      "Random Forest:\n",
      "[[1543   51]\n",
      " [  21 1603]]\n",
      "              precision    recall  f1-score   support\n",
      "\n",
      "           0       0.99      0.97      0.98      1594\n",
      "           1       0.97      0.99      0.98      1624\n",
      "\n",
      "    accuracy                           0.98      3218\n",
      "   macro avg       0.98      0.98      0.98      3218\n",
      "weighted avg       0.98      0.98      0.98      3218\n",
      "\n"
     ]
    }
   ],
   "source": [
    "print('Logistic Regression:')\n",
    "print(logistic_confusion_matrix) \n",
    "print(logistic_classification_report)\n",
    "\n",
    "\n",
    "print('Decision Tree:')\n",
    "print(decision_tree_confusion_matrix) \n",
    "print(decision_tree_classification_report)\n",
    "\n",
    "\n",
    "print('Random Forest:')\n",
    "print(random_forests_confusion_matrix) \n",
    "print(random_forests_classification_report)"
   ]
  },
  {
   "cell_type": "markdown",
   "id": "national-croatia",
   "metadata": {},
   "source": [
    "While all strategies improved at predicting defaults, we have a clear winner with the random forest strategy. "
   ]
  },
  {
   "cell_type": "code",
   "execution_count": 19,
   "id": "anonymous-blanket",
   "metadata": {},
   "outputs": [
    {
     "data": {
      "text/plain": [
       "Text(0.5, 1.0, 'Random Forest - ROC AUC=0.995')"
      ]
     },
     "execution_count": 19,
     "metadata": {},
     "output_type": "execute_result"
    },
    {
     "data": {
      "image/png": "[encoded data removed]",
      "text/plain": [
       "<Figure size 360x1080 with 3 Axes>"
      ]
     },
     "metadata": {
      "needs_background": "light"
     },
     "output_type": "display_data"
    }
   ],
   "source": [
    "fig, axs = plt.subplots(3,figsize=(5,15))\n",
    "\n",
    "axs[0].plot(ns_fpr, ns_tpr, linestyle='--', label='No Skill')\n",
    "axs[1].plot(ns_fpr, ns_tpr, linestyle='--', label='No Skill')\n",
    "axs[2].plot(ns_fpr, ns_tpr, linestyle='--', label='No Skill')\n",
    "\n",
    "axs[0].plot(lr_fpr, lr_tpr, marker='.', label='SKLearn Logit')\n",
    "axs[1].plot(dt_fpr, dt_tpr, marker='.', label='Decision Tree')\n",
    "axs[2].plot(rf_fpr, rf_tpr, marker='.', label='Random Forest')\n",
    "\n",
    "for ax in axs.flat:\n",
    "    ax.set(xlabel='False Positive Rate', ylabel='True Positive Rate')\n",
    "\n",
    "axs[0].set_title('SKLearn Logit - ROC AUC=%.3f' % (lr_auc))\n",
    "axs[1].set_title('Decision Tree - ROC AUC=%.3f' % (dt_auc))\n",
    "axs[2].set_title('Random Forest - ROC AUC=%.3f' % (rf_auc))"
   ]
  },
  {
   "cell_type": "markdown",
   "id": "broke-processor",
   "metadata": {},
   "source": [
    "The ROC curve provides a visualization of how successful the Random Forest strategy is. Its precision of predicting defaults is 97%, while predicting non-defaults remained at 99%. This ML strategy remains a 'black box': we cannot know what relationships were detected. However, this study has shown how prodiving data in the right format can improve ML predictions, and how different strategies will show different performances."
   ]
  },
  {
   "cell_type": "code",
   "execution_count": null,
   "id": "composed-capture",
   "metadata": {},
   "outputs": [],
   "source": []
  }
 ],
 "metadata": {
  "kernelspec": {
   "display_name": "Python 3",
   "language": "python",
   "name": "python3"
  },
  "language_info": {
   "codemirror_mode": {
    "name": "ipython",
    "version": 3
   },
   "file_extension": ".py",
   "mimetype": "text/x-python",
   "name": "python",
   "nbconvert_exporter": "python",
   "pygments_lexer": "ipython3",
   "version": "3.8.3"
  }
 },
 "nbformat": 4,
 "nbformat_minor": 5
}
